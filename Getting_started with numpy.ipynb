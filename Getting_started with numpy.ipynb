{
 "cells": [
  {
   "cell_type": "code",
   "execution_count": 2,
   "id": "40113e6b",
   "metadata": {},
   "outputs": [],
   "source": [
    "import numpy as np"
   ]
  },
  {
   "cell_type": "markdown",
   "id": "0d0b6529",
   "metadata": {},
   "source": [
    "#Datatypes and Attributes\n"
   ]
  },
  {
   "cell_type": "code",
   "execution_count": 4,
   "id": "a4ce8fda",
   "metadata": {},
   "outputs": [
    {
     "data": {
      "text/plain": [
       "array([1, 2, 3])"
      ]
     },
     "execution_count": 4,
     "metadata": {},
     "output_type": "execute_result"
    }
   ],
   "source": [
    "a1=np.array([1,2,3])\n",
    "a1\n",
    "\n",
    "#creating a one dimensional array"
   ]
  },
  {
   "cell_type": "code",
   "execution_count": 3,
   "id": "83a15b45",
   "metadata": {},
   "outputs": [
    {
     "data": {
      "text/plain": [
       "numpy.ndarray"
      ]
     },
     "execution_count": 3,
     "metadata": {},
     "output_type": "execute_result"
    }
   ],
   "source": [
    "type(a1)\n",
    "#this type function specifies the type of the array."
   ]
  },
  {
   "cell_type": "code",
   "execution_count": 4,
   "id": "f9053683",
   "metadata": {},
   "outputs": [],
   "source": [
    "#the ndarray stands for n dim array.."
   ]
  },
  {
   "cell_type": "code",
   "execution_count": 5,
   "id": "4c085689",
   "metadata": {},
   "outputs": [
    {
     "data": {
      "text/plain": [
       "array([[1, 2, 3],\n",
       "       [4, 5, 6]])"
      ]
     },
     "execution_count": 5,
     "metadata": {},
     "output_type": "execute_result"
    }
   ],
   "source": [
    "#let us create a few more arrays with multi dim.\n",
    "a2=np.array([[1,2,3],\n",
    "            [4,5,6]])\n",
    "a2"
   ]
  },
  {
   "cell_type": "code",
   "execution_count": 6,
   "id": "23545e0f",
   "metadata": {},
   "outputs": [
    {
     "data": {
      "text/plain": [
       "array([[[ 1,  2,  3],\n",
       "        [ 3,  4,  5]],\n",
       "\n",
       "       [[ 6,  7,  8],\n",
       "        [ 9, 10, 11]]])"
      ]
     },
     "execution_count": 6,
     "metadata": {},
     "output_type": "execute_result"
    }
   ],
   "source": [
    "a3=np.array([[[1,2,3],\n",
    "            [3,4,5],],\n",
    "             \n",
    "            [[6,7,8],\n",
    "            [9,10,11]]])\n",
    "a3\n"
   ]
  },
  {
   "cell_type": "code",
   "execution_count": 3,
   "id": "abd16417",
   "metadata": {},
   "outputs": [],
   "source": [
    "import pandas as pd"
   ]
  },
  {
   "cell_type": "code",
   "execution_count": 10,
   "id": "d67c4596",
   "metadata": {},
   "outputs": [],
   "source": [
    "#creating a dataframe using a numpy array.\n",
    "df=pd.DataFrame(a2)"
   ]
  },
  {
   "cell_type": "code",
   "execution_count": 11,
   "id": "48e7a2ad",
   "metadata": {},
   "outputs": [
    {
     "data": {
      "text/html": [
       "<div>\n",
       "<style scoped>\n",
       "    .dataframe tbody tr th:only-of-type {\n",
       "        vertical-align: middle;\n",
       "    }\n",
       "\n",
       "    .dataframe tbody tr th {\n",
       "        vertical-align: top;\n",
       "    }\n",
       "\n",
       "    .dataframe thead th {\n",
       "        text-align: right;\n",
       "    }\n",
       "</style>\n",
       "<table border=\"1\" class=\"dataframe\">\n",
       "  <thead>\n",
       "    <tr style=\"text-align: right;\">\n",
       "      <th></th>\n",
       "      <th>0</th>\n",
       "      <th>1</th>\n",
       "      <th>2</th>\n",
       "    </tr>\n",
       "  </thead>\n",
       "  <tbody>\n",
       "    <tr>\n",
       "      <th>0</th>\n",
       "      <td>1</td>\n",
       "      <td>2</td>\n",
       "      <td>3</td>\n",
       "    </tr>\n",
       "    <tr>\n",
       "      <th>1</th>\n",
       "      <td>4</td>\n",
       "      <td>5</td>\n",
       "      <td>6</td>\n",
       "    </tr>\n",
       "  </tbody>\n",
       "</table>\n",
       "</div>"
      ],
      "text/plain": [
       "   0  1  2\n",
       "0  1  2  3\n",
       "1  4  5  6"
      ]
     },
     "execution_count": 11,
     "metadata": {},
     "output_type": "execute_result"
    }
   ],
   "source": [
    "df"
   ]
  },
  {
   "cell_type": "code",
   "execution_count": 12,
   "id": "5af9d0d3",
   "metadata": {},
   "outputs": [
    {
     "data": {
      "text/plain": [
       "1"
      ]
     },
     "execution_count": 12,
     "metadata": {},
     "output_type": "execute_result"
    }
   ],
   "source": [
    "#to view the dimension of the particular array\n",
    "a1.ndim"
   ]
  },
  {
   "cell_type": "code",
   "execution_count": 13,
   "id": "24fcf95f",
   "metadata": {},
   "outputs": [
    {
     "data": {
      "text/plain": [
       "(3,)"
      ]
     },
     "execution_count": 13,
     "metadata": {},
     "output_type": "execute_result"
    }
   ],
   "source": [
    "#to view the shape of the array\n",
    "a1.shape\n",
    "\n",
    "#here there are series of three number so it is displayed as 3 but actually its (1,3) let me show you in 2 dim array."
   ]
  },
  {
   "cell_type": "code",
   "execution_count": 14,
   "id": "26cccb09",
   "metadata": {},
   "outputs": [
    {
     "data": {
      "text/plain": [
       "(2, 3)"
      ]
     },
     "execution_count": 14,
     "metadata": {},
     "output_type": "execute_result"
    }
   ],
   "source": [
    "a2.shape\n",
    "#two rows and three columns so its (2,3)"
   ]
  },
  {
   "cell_type": "markdown",
   "id": "dddf0410",
   "metadata": {},
   "source": [
    "##creating numpy arryas."
   ]
  },
  {
   "cell_type": "code",
   "execution_count": 7,
   "id": "78e47752",
   "metadata": {},
   "outputs": [],
   "source": [
    "ones=np.ones((2,3),dtype=np.float64)\n",
    "\n",
    "#this returns the specific shape we have defined and the default datatype is float.we have changed here to int "
   ]
  },
  {
   "cell_type": "code",
   "execution_count": 24,
   "id": "f8a6cd57",
   "metadata": {},
   "outputs": [
    {
     "data": {
      "text/plain": [
       "array([[1., 1., 1.],\n",
       "       [1., 1., 1.]])"
      ]
     },
     "execution_count": 24,
     "metadata": {},
     "output_type": "execute_result"
    }
   ],
   "source": [
    "ones"
   ]
  },
  {
   "cell_type": "code",
   "execution_count": 25,
   "id": "62da0cd3",
   "metadata": {},
   "outputs": [
    {
     "data": {
      "text/plain": [
       "dtype('float64')"
      ]
     },
     "execution_count": 25,
     "metadata": {},
     "output_type": "execute_result"
    }
   ],
   "source": [
    "ones.dtype"
   ]
  },
  {
   "cell_type": "code",
   "execution_count": 26,
   "id": "6230e4c9",
   "metadata": {},
   "outputs": [],
   "source": [
    "#there is also an interesting thing filling with zeros.\n",
    "\n",
    "zero=np.zeros((2,3))"
   ]
  },
  {
   "cell_type": "code",
   "execution_count": 27,
   "id": "e58ad340",
   "metadata": {},
   "outputs": [
    {
     "data": {
      "text/plain": [
       "array([[0., 0., 0.],\n",
       "       [0., 0., 0.]])"
      ]
     },
     "execution_count": 27,
     "metadata": {},
     "output_type": "execute_result"
    }
   ],
   "source": [
    "zero"
   ]
  },
  {
   "cell_type": "code",
   "execution_count": 20,
   "id": "fe99e45b",
   "metadata": {},
   "outputs": [
    {
     "data": {
      "text/plain": [
       "dtype('float64')"
      ]
     },
     "execution_count": 20,
     "metadata": {},
     "output_type": "execute_result"
    }
   ],
   "source": [
    "zero.dtype"
   ]
  },
  {
   "cell_type": "code",
   "execution_count": 28,
   "id": "4dee328a",
   "metadata": {},
   "outputs": [],
   "source": [
    "# now we are going to see a similar function we came across in python range()\n",
    "\n",
    "ranges=np.arange(0,10,5)\n",
    "\n",
    "#the syntax is very common arange(start,stop,step(increment))"
   ]
  },
  {
   "cell_type": "code",
   "execution_count": 29,
   "id": "0a1b66d9",
   "metadata": {},
   "outputs": [
    {
     "data": {
      "text/plain": [
       "array([0, 5])"
      ]
     },
     "execution_count": 29,
     "metadata": {},
     "output_type": "execute_result"
    }
   ],
   "source": [
    "ranges"
   ]
  },
  {
   "cell_type": "code",
   "execution_count": 31,
   "id": "674e4b08",
   "metadata": {},
   "outputs": [],
   "source": [
    "#Including random values in the array\n",
    "\n",
    "random_arr=np.random.randint(0,20,size=(3,3))\n",
    "\n",
    "#for some clarifications click inside the function bracket and press shift+tab ."
   ]
  },
  {
   "cell_type": "code",
   "execution_count": 32,
   "id": "a23e9be7",
   "metadata": {},
   "outputs": [
    {
     "data": {
      "text/plain": [
       "array([[ 9,  3, 16],\n",
       "       [ 6,  3, 10],\n",
       "       [ 5, 14, 10]])"
      ]
     },
     "execution_count": 32,
     "metadata": {},
     "output_type": "execute_result"
    }
   ],
   "source": [
    "random_arr"
   ]
  },
  {
   "cell_type": "code",
   "execution_count": 34,
   "id": "7b05400a",
   "metadata": {},
   "outputs": [],
   "source": [
    "#well thats not what we expected right the problem is we need to declare the shape(mentioned as size in the function)of the array\n",
    "\n",
    "random_arr1=np.random.randint(1,20,size=(2,3))"
   ]
  },
  {
   "cell_type": "code",
   "execution_count": 35,
   "id": "cbddfbd4",
   "metadata": {},
   "outputs": [
    {
     "data": {
      "text/plain": [
       "array([[ 3, 12, 15],\n",
       "       [10,  5, 12]])"
      ]
     },
     "execution_count": 35,
     "metadata": {},
     "output_type": "execute_result"
    }
   ],
   "source": [
    "random_arr1"
   ]
  },
  {
   "cell_type": "code",
   "execution_count": 37,
   "id": "c2f076ef",
   "metadata": {},
   "outputs": [
    {
     "data": {
      "text/plain": [
       "(6, 2)"
      ]
     },
     "execution_count": 37,
     "metadata": {},
     "output_type": "execute_result"
    }
   ],
   "source": [
    "random_arr1.size,random_arr1.ndim\n",
    "\n",
    "#the answer would be (size of the array , dimension of the array)"
   ]
  },
  {
   "cell_type": "code",
   "execution_count": 38,
   "id": "128e07aa",
   "metadata": {},
   "outputs": [
    {
     "data": {
      "text/plain": [
       "(2, 3)"
      ]
     },
     "execution_count": 38,
     "metadata": {},
     "output_type": "execute_result"
    }
   ],
   "source": [
    "random_arr1.shape"
   ]
  },
  {
   "cell_type": "code",
   "execution_count": 39,
   "id": "6506cbc4",
   "metadata": {},
   "outputs": [
    {
     "data": {
      "text/plain": [
       "array([[0.36175532, 0.69327589, 0.44449266],\n",
       "       [0.05833191, 0.75219473, 0.16513367],\n",
       "       [0.48482282, 0.37229562, 0.14559128]])"
      ]
     },
     "execution_count": 39,
     "metadata": {},
     "output_type": "execute_result"
    }
   ],
   "source": [
    "random_arr2=np.random.random(size=(3,3))\n",
    "\n",
    "#this returns complete random float values\n",
    "random_arr2"
   ]
  },
  {
   "cell_type": "code",
   "execution_count": 40,
   "id": "04d4d0d0",
   "metadata": {},
   "outputs": [
    {
     "data": {
      "text/plain": [
       "array([[0.13713707, 0.67282053, 0.90834522, 0.26637889, 0.21537837,\n",
       "        0.39481695, 0.85095473, 0.5607777 , 0.09517721, 0.3065927 ],\n",
       "       [0.26222453, 0.86654907, 0.55969837, 0.31284682, 0.05657131,\n",
       "        0.86662823, 0.79271605, 0.8340657 , 0.62872591, 0.90456562],\n",
       "       [0.26928852, 0.71233011, 0.19287442, 0.60205473, 0.76217138,\n",
       "        0.1202064 , 0.26980471, 0.60770251, 0.6208256 , 0.36658273],\n",
       "       [0.43420983, 0.72502486, 0.76965473, 0.89249417, 0.43772238,\n",
       "        0.66984587, 0.12156087, 0.47457727, 0.25781903, 0.15873748],\n",
       "       [0.49301263, 0.29185095, 0.84298277, 0.24075794, 0.80545446,\n",
       "        0.19936507, 0.08738979, 0.70155087, 0.48783279, 0.38363505],\n",
       "       [0.86415616, 0.99580281, 0.90132908, 0.74182529, 0.27731944,\n",
       "        0.8727227 , 0.28670863, 0.25991193, 0.13014158, 0.07142464],\n",
       "       [0.28220663, 0.2999736 , 0.55224743, 0.1918817 , 0.11624508,\n",
       "        0.79542003, 0.91452522, 0.37411839, 0.54001107, 0.90334437],\n",
       "       [0.75899109, 0.71860215, 0.63428533, 0.56315552, 0.36205926,\n",
       "        0.95989079, 0.29536673, 0.51114347, 0.37395821, 0.90593175],\n",
       "       [0.63363921, 0.70712656, 0.35176459, 0.66533732, 0.47480259,\n",
       "        0.72824849, 0.23028293, 0.35180828, 0.58218874, 0.94421609],\n",
       "       [0.17730528, 0.25191444, 0.31728823, 0.0740323 , 0.60160664,\n",
       "        0.22152321, 0.25715552, 0.19591908, 0.40833178, 0.34089619]])"
      ]
     },
     "execution_count": 40,
     "metadata": {},
     "output_type": "execute_result"
    }
   ],
   "source": [
    "#here we'll see another similar type to random.random()\n",
    "\n",
    "random_arr3=np.random.rand(10,10)\n",
    "\n",
    "random_arr3 #the shape of the array is 10x10"
   ]
  },
  {
   "cell_type": "markdown",
   "id": "a6e148b5",
   "metadata": {},
   "source": [
    "# Random Seed"
   ]
  },
  {
   "cell_type": "code",
   "execution_count": 41,
   "id": "ad4ed836",
   "metadata": {},
   "outputs": [
    {
     "data": {
      "text/plain": [
       "array([[6, 6, 1],\n",
       "       [3, 2, 7]])"
      ]
     },
     "execution_count": 41,
     "metadata": {},
     "output_type": "execute_result"
    }
   ],
   "source": [
    "# here we'll look after one of the most important function in random which is random seed \n",
    "\n",
    "random_array_1=np.random.randint(0,9,size=(2,3))\n",
    "\n",
    "random_array_1\n",
    "\n",
    "#Run this line multiple times you will notice that the values get's changed every single time we run it"
   ]
  },
  {
   "cell_type": "code",
   "execution_count": 44,
   "id": "6ad5db04",
   "metadata": {},
   "outputs": [
    {
     "data": {
      "text/plain": [
       "array([[0.07630829, 0.77991879, 0.43840923],\n",
       "       [0.72346518, 0.97798951, 0.53849587]])"
      ]
     },
     "execution_count": 44,
     "metadata": {},
     "output_type": "execute_result"
    }
   ],
   "source": [
    "#so to fix this changing values we need to use random.seed() this function will prevent from changes.\n",
    "np.random.seed(seed=7)\n",
    "random_array_3=np.random.random((2,3))\n",
    " \n",
    "random_array_3"
   ]
  },
  {
   "cell_type": "markdown",
   "id": "09034aeb",
   "metadata": {},
   "source": [
    "# view the arrays"
   ]
  },
  {
   "cell_type": "code",
   "execution_count": 45,
   "id": "cf7c85dc",
   "metadata": {},
   "outputs": [
    {
     "data": {
      "text/plain": [
       "array([1, 2, 3])"
      ]
     },
     "execution_count": 45,
     "metadata": {},
     "output_type": "execute_result"
    }
   ],
   "source": [
    "a1"
   ]
  },
  {
   "cell_type": "code",
   "execution_count": 46,
   "id": "e28581f5",
   "metadata": {},
   "outputs": [
    {
     "data": {
      "text/plain": [
       "array([[1, 2, 3],\n",
       "       [4, 5, 6]])"
      ]
     },
     "execution_count": 46,
     "metadata": {},
     "output_type": "execute_result"
    }
   ],
   "source": [
    "a2"
   ]
  },
  {
   "cell_type": "code",
   "execution_count": 47,
   "id": "fad88263",
   "metadata": {},
   "outputs": [
    {
     "data": {
      "text/plain": [
       "array([[[ 1,  2,  3],\n",
       "        [ 3,  4,  5]],\n",
       "\n",
       "       [[ 6,  7,  8],\n",
       "        [ 9, 10, 11]]])"
      ]
     },
     "execution_count": 47,
     "metadata": {},
     "output_type": "execute_result"
    }
   ],
   "source": [
    "a3\n",
    "\n",
    "#you can view array like this jus kidding in here we'll see about \n",
    "# 1.unique\n",
    "# 2.viewing by index position\n",
    "# 3.slicing operator"
   ]
  },
  {
   "cell_type": "code",
   "execution_count": 48,
   "id": "1a171d5b",
   "metadata": {},
   "outputs": [
    {
     "data": {
      "text/plain": [
       "array([1, 2, 3])"
      ]
     },
     "execution_count": 48,
     "metadata": {},
     "output_type": "execute_result"
    }
   ],
   "source": [
    "np.unique(a1)"
   ]
  },
  {
   "cell_type": "code",
   "execution_count": 49,
   "id": "aafceb90",
   "metadata": {},
   "outputs": [
    {
     "data": {
      "text/plain": [
       "array([1, 2, 3, 4, 5, 6])"
      ]
     },
     "execution_count": 49,
     "metadata": {},
     "output_type": "execute_result"
    }
   ],
   "source": [
    "np.unique(a2)\n",
    "\n",
    "#this returns unique values in the array"
   ]
  },
  {
   "cell_type": "code",
   "execution_count": 50,
   "id": "2a30f966",
   "metadata": {},
   "outputs": [
    {
     "data": {
      "text/plain": [
       "array([ 1,  2,  3,  4,  5,  6,  7,  8,  9, 10, 11])"
      ]
     },
     "execution_count": 50,
     "metadata": {},
     "output_type": "execute_result"
    }
   ],
   "source": [
    "np.unique(a3)"
   ]
  },
  {
   "cell_type": "code",
   "execution_count": null,
   "id": "c17eef76",
   "metadata": {},
   "outputs": [],
   "source": []
  },
  {
   "cell_type": "code",
   "execution_count": 51,
   "id": "661700fb",
   "metadata": {},
   "outputs": [
    {
     "data": {
      "text/plain": [
       "array([[[ 1,  2,  3],\n",
       "        [ 3,  4,  5]],\n",
       "\n",
       "       [[ 6,  7,  8],\n",
       "        [ 9, 10, 11]]])"
      ]
     },
     "execution_count": 51,
     "metadata": {},
     "output_type": "execute_result"
    }
   ],
   "source": [
    "a3"
   ]
  },
  {
   "cell_type": "code",
   "execution_count": 56,
   "id": "e406b27a",
   "metadata": {},
   "outputs": [
    {
     "data": {
      "text/plain": [
       "array([[1, 2, 3],\n",
       "       [3, 4, 5]])"
      ]
     },
     "execution_count": 56,
     "metadata": {},
     "output_type": "execute_result"
    }
   ],
   "source": [
    "# here we can we the data by index position \n",
    "\n",
    "a3[0]\n",
    "\n",
    "\n"
   ]
  },
  {
   "cell_type": "code",
   "execution_count": 57,
   "id": "cfe5eafe",
   "metadata": {},
   "outputs": [
    {
     "data": {
      "text/plain": [
       "((2, 2, 3), 3)"
      ]
     },
     "execution_count": 57,
     "metadata": {},
     "output_type": "execute_result"
    }
   ],
   "source": [
    "a3.shape,a3.ndim\n"
   ]
  },
  {
   "cell_type": "code",
   "execution_count": 64,
   "id": "7445c124",
   "metadata": {},
   "outputs": [],
   "source": [
    "#let us create an arrya of 3 dimension\n",
    "\n",
    "a4=np.random.randint(20,size=(2,3,4,4))\n",
    "\n",
    "#here inside the size (2-times,3-dimensions,4-rows,4-columns)"
   ]
  },
  {
   "cell_type": "code",
   "execution_count": 65,
   "id": "179b0518",
   "metadata": {},
   "outputs": [
    {
     "data": {
      "text/plain": [
       "array([[[[ 9, 12,  3, 14],\n",
       "         [14, 15,  3, 16],\n",
       "         [ 4, 11,  8, 11],\n",
       "         [15, 13, 18,  7]],\n",
       "\n",
       "        [[ 3, 12, 12, 15],\n",
       "         [ 8,  6,  6, 12],\n",
       "         [ 7, 17, 10, 15],\n",
       "         [ 5,  4,  9,  9]],\n",
       "\n",
       "        [[ 0,  2, 12,  6],\n",
       "         [ 8,  2, 10, 14],\n",
       "         [17,  6, 10, 17],\n",
       "         [ 5, 15, 17, 12]]],\n",
       "\n",
       "\n",
       "       [[[ 9,  8, 15,  5],\n",
       "         [ 9,  4, 12,  9],\n",
       "         [11,  6,  1, 11],\n",
       "         [19, 12, 12, 13]],\n",
       "\n",
       "        [[ 4,  7,  9,  6],\n",
       "         [15, 11, 18, 16],\n",
       "         [ 5,  3, 13,  0],\n",
       "         [ 1, 13,  8, 14]],\n",
       "\n",
       "        [[13,  9, 10,  0],\n",
       "         [ 2, 16,  6, 18],\n",
       "         [ 9,  9, 13, 11],\n",
       "         [ 1, 14, 16, 16]]]])"
      ]
     },
     "execution_count": 65,
     "metadata": {},
     "output_type": "execute_result"
    }
   ],
   "source": [
    "a4"
   ]
  },
  {
   "cell_type": "code",
   "execution_count": 66,
   "id": "43249fc3",
   "metadata": {},
   "outputs": [
    {
     "data": {
      "text/plain": [
       "(2, 3, 4, 4)"
      ]
     },
     "execution_count": 66,
     "metadata": {},
     "output_type": "execute_result"
    }
   ],
   "source": [
    "a4.shape"
   ]
  },
  {
   "cell_type": "code",
   "execution_count": 70,
   "id": "8a50e490",
   "metadata": {},
   "outputs": [
    {
     "data": {
      "text/plain": [
       "array([[[[ 9, 12],\n",
       "         [14, 15]],\n",
       "\n",
       "        [[ 3, 12],\n",
       "         [ 8,  6]]]])"
      ]
     },
     "execution_count": 70,
     "metadata": {},
     "output_type": "execute_result"
    }
   ],
   "source": [
    "#let us see something about slicing operator which is much common in python.\n",
    "\n",
    "a4[:1,:2,:2,:2]"
   ]
  },
  {
   "cell_type": "code",
   "execution_count": 1,
   "id": "2fe33f62",
   "metadata": {},
   "outputs": [],
   "source": [
    "# if you dont have any experience in the slicing operator then it is suggested to see the documentation and \n",
    "# then play around those operator to get familiar with the operator.\n"
   ]
  },
  {
   "cell_type": "markdown",
   "id": "885fd0aa",
   "metadata": {},
   "source": [
    "# Manipulating the numpy arrays"
   ]
  },
  {
   "cell_type": "code",
   "execution_count": 2,
   "id": "fa224047",
   "metadata": {},
   "outputs": [],
   "source": [
    "# this section is dealing with the numpy arrays Arithmetic operations."
   ]
  },
  {
   "cell_type": "code",
   "execution_count": 8,
   "id": "e075b0b6",
   "metadata": {},
   "outputs": [
    {
     "data": {
      "text/plain": [
       "array([1, 2, 3])"
      ]
     },
     "execution_count": 8,
     "metadata": {},
     "output_type": "execute_result"
    }
   ],
   "source": [
    "a1"
   ]
  },
  {
   "cell_type": "code",
   "execution_count": 10,
   "id": "1a94ef5f",
   "metadata": {},
   "outputs": [],
   "source": [
    "ones=np.ones((2,3))"
   ]
  },
  {
   "cell_type": "code",
   "execution_count": 13,
   "id": "7518f9f5",
   "metadata": {},
   "outputs": [
    {
     "data": {
      "text/plain": [
       "dtype('float64')"
      ]
     },
     "execution_count": 13,
     "metadata": {},
     "output_type": "execute_result"
    }
   ],
   "source": [
    "ones.dtype\n",
    "\n",
    "#here this is a floting number."
   ]
  },
  {
   "cell_type": "code",
   "execution_count": 14,
   "id": "2cbf3989",
   "metadata": {},
   "outputs": [
    {
     "data": {
      "text/plain": [
       "array([[2., 3., 4.],\n",
       "       [2., 3., 4.]])"
      ]
     },
     "execution_count": 14,
     "metadata": {},
     "output_type": "execute_result"
    }
   ],
   "source": [
    "#performing addition operation's and sum of the other operation's\n",
    "\n",
    "a1+ones"
   ]
  },
  {
   "cell_type": "code",
   "execution_count": 15,
   "id": "69079af3",
   "metadata": {},
   "outputs": [
    {
     "data": {
      "text/plain": [
       "array([[0., 1., 2.],\n",
       "       [0., 1., 2.]])"
      ]
     },
     "execution_count": 15,
     "metadata": {},
     "output_type": "execute_result"
    }
   ],
   "source": [
    "a1-ones"
   ]
  },
  {
   "cell_type": "code",
   "execution_count": 16,
   "id": "4ebcf2e3",
   "metadata": {},
   "outputs": [
    {
     "data": {
      "text/plain": [
       "array([[1., 2., 3.],\n",
       "       [1., 2., 3.]])"
      ]
     },
     "execution_count": 16,
     "metadata": {},
     "output_type": "execute_result"
    }
   ],
   "source": [
    "a1*ones"
   ]
  },
  {
   "cell_type": "code",
   "execution_count": 17,
   "id": "9ab79952",
   "metadata": {},
   "outputs": [
    {
     "data": {
      "text/plain": [
       "array([[1., 2., 3.],\n",
       "       [1., 2., 3.]])"
      ]
     },
     "execution_count": 17,
     "metadata": {},
     "output_type": "execute_result"
    }
   ],
   "source": [
    "a1/ones"
   ]
  },
  {
   "cell_type": "code",
   "execution_count": 18,
   "id": "49102508",
   "metadata": {},
   "outputs": [
    {
     "data": {
      "text/plain": [
       "array([[1., 2., 3.],\n",
       "       [1., 2., 3.]])"
      ]
     },
     "execution_count": 18,
     "metadata": {},
     "output_type": "execute_result"
    }
   ],
   "source": [
    "a1//ones\n",
    "\n",
    "#if you are not aware of floor divison please do search on the python documentation, basically it removes the decimal value if it has any\n",
    "# in our example we did'nt get a decimal so we get the same kind of answer"
   ]
  },
  {
   "cell_type": "code",
   "execution_count": 19,
   "id": "ed0906b0",
   "metadata": {},
   "outputs": [
    {
     "data": {
      "text/plain": [
       "array([[1., 2., 3.],\n",
       "       [4., 5., 6.]])"
      ]
     },
     "execution_count": 19,
     "metadata": {},
     "output_type": "execute_result"
    }
   ],
   "source": [
    "a2/ones"
   ]
  },
  {
   "cell_type": "code",
   "execution_count": 20,
   "id": "9c2cedec",
   "metadata": {},
   "outputs": [],
   "source": [
    "arr=np.random.randint(10,size=(2,3))"
   ]
  },
  {
   "cell_type": "code",
   "execution_count": 21,
   "id": "a06dbdfe",
   "metadata": {},
   "outputs": [
    {
     "data": {
      "text/plain": [
       "array([[9, 2, 3],\n",
       "       [5, 7, 0]])"
      ]
     },
     "execution_count": 21,
     "metadata": {},
     "output_type": "execute_result"
    }
   ],
   "source": [
    "arr"
   ]
  },
  {
   "cell_type": "markdown",
   "id": "d761e78a",
   "metadata": {},
   "source": [
    "# Difference between division and floor division"
   ]
  },
  {
   "cell_type": "code",
   "execution_count": 22,
   "id": "97147628",
   "metadata": {},
   "outputs": [
    {
     "data": {
      "text/plain": [
       "array([[9.  , 1.  , 1.  ],\n",
       "       [1.25, 1.4 , 0.  ]])"
      ]
     },
     "execution_count": 22,
     "metadata": {},
     "output_type": "execute_result"
    }
   ],
   "source": [
    "arr/a2\n",
    "\n",
    "#ahh now we got some decimals so we'll use floor divison "
   ]
  },
  {
   "cell_type": "code",
   "execution_count": 23,
   "id": "54134593",
   "metadata": {},
   "outputs": [
    {
     "data": {
      "text/plain": [
       "array([[9, 1, 1],\n",
       "       [1, 1, 0]])"
      ]
     },
     "execution_count": 23,
     "metadata": {},
     "output_type": "execute_result"
    }
   ],
   "source": [
    "arr//a2"
   ]
  },
  {
   "cell_type": "markdown",
   "id": "c5b43ef5",
   "metadata": {},
   "source": [
    "## Aggregation"
   ]
  },
  {
   "cell_type": "code",
   "execution_count": 24,
   "id": "266695a6",
   "metadata": {},
   "outputs": [
    {
     "data": {
      "text/plain": [
       "6"
      ]
     },
     "execution_count": 24,
     "metadata": {},
     "output_type": "execute_result"
    }
   ],
   "source": [
    "sum(a1)"
   ]
  },
  {
   "cell_type": "code",
   "execution_count": 25,
   "id": "50e69e71",
   "metadata": {},
   "outputs": [
    {
     "data": {
      "text/plain": [
       "array([1, 2, 3])"
      ]
     },
     "execution_count": 25,
     "metadata": {},
     "output_type": "execute_result"
    }
   ],
   "source": [
    "a1\n"
   ]
  },
  {
   "cell_type": "code",
   "execution_count": 27,
   "id": "43275629",
   "metadata": {},
   "outputs": [],
   "source": [
    "# The sum() adds the values in a1"
   ]
  },
  {
   "cell_type": "code",
   "execution_count": 28,
   "id": "142042b4",
   "metadata": {},
   "outputs": [
    {
     "data": {
      "text/plain": [
       "6"
      ]
     },
     "execution_count": 28,
     "metadata": {},
     "output_type": "execute_result"
    }
   ],
   "source": [
    "np.sum(a1)\n",
    "\n",
    "#oh the same thing "
   ]
  },
  {
   "cell_type": "code",
   "execution_count": 29,
   "id": "55da7f47",
   "metadata": {},
   "outputs": [],
   "source": [
    "massive_arr=np.random.random(1000)\n",
    "\n",
    "#this is the massive array that has more than 1000"
   ]
  },
  {
   "cell_type": "code",
   "execution_count": 30,
   "id": "95a8b1b1",
   "metadata": {},
   "outputs": [
    {
     "data": {
      "text/plain": [
       "array([0.46544512, 0.53957679, 0.15661534, 0.83031975, 0.90225177,\n",
       "       0.04716558, 0.89446292, 0.40575934, 0.14049304, 0.15288057])"
      ]
     },
     "execution_count": 30,
     "metadata": {},
     "output_type": "execute_result"
    }
   ],
   "source": [
    "massive_arr[:10]"
   ]
  },
  {
   "cell_type": "code",
   "execution_count": 31,
   "id": "ec0b61b6",
   "metadata": {},
   "outputs": [
    {
     "name": "stdout",
     "output_type": "stream",
     "text": [
      "161 µs ± 7.63 µs per loop (mean ± std. dev. of 7 runs, 1,000 loops each)\n",
      "10.2 µs ± 44.4 ns per loop (mean ± std. dev. of 7 runs, 100,000 loops each)\n"
     ]
    }
   ],
   "source": [
    "%timeit sum(massive_arr)\n",
    "\n",
    "%timeit np.sum(massive_arr)"
   ]
  },
  {
   "cell_type": "code",
   "execution_count": 2,
   "id": "41b76893",
   "metadata": {},
   "outputs": [],
   "source": [
    "#now see which is faster ....."
   ]
  },
  {
   "cell_type": "markdown",
   "id": "3b3e4ad9",
   "metadata": {},
   "source": [
    "# Standard Deviation and Variance."
   ]
  },
  {
   "cell_type": "code",
   "execution_count": 3,
   "id": "4e6f26cf",
   "metadata": {},
   "outputs": [],
   "source": [
    "# in this concept i'll suggest you to fo through some of the basic stuffs related to std and Var.\n",
    "\n",
    "#let us create a array with maximum values and minimum values."
   ]
  },
  {
   "cell_type": "code",
   "execution_count": 4,
   "id": "5f404672",
   "metadata": {},
   "outputs": [],
   "source": [
    "high_var_array=np.array([1,100,200,300,4000,5000])"
   ]
  },
  {
   "cell_type": "code",
   "execution_count": 5,
   "id": "ec4e298c",
   "metadata": {},
   "outputs": [],
   "source": [
    "low_var_array=np.array([2,4,6,8,10])"
   ]
  },
  {
   "cell_type": "code",
   "execution_count": 6,
   "id": "9285a061",
   "metadata": {},
   "outputs": [
    {
     "data": {
      "text/plain": [
       "(2.8284271247461903, 2072.711623024829)"
      ]
     },
     "execution_count": 6,
     "metadata": {},
     "output_type": "execute_result"
    }
   ],
   "source": [
    "np.std(low_var_array),np.std(high_var_array)"
   ]
  },
  {
   "cell_type": "code",
   "execution_count": 7,
   "id": "675f2bee",
   "metadata": {},
   "outputs": [
    {
     "data": {
      "text/plain": [
       "(8.0, 4296133.472222221)"
      ]
     },
     "execution_count": 7,
     "metadata": {},
     "output_type": "execute_result"
    }
   ],
   "source": [
    "np.var(low_var_array),np.var(high_var_array)"
   ]
  },
  {
   "cell_type": "code",
   "execution_count": 8,
   "id": "c63e450d",
   "metadata": {},
   "outputs": [
    {
     "data": {
      "image/png": "[encoded data removed]",
      "text/plain": [
       "<Figure size 432x288 with 1 Axes>"
      ]
     },
     "metadata": {
      "needs_background": "light"
     },
     "output_type": "display_data"
    }
   ],
   "source": [
    "#let's us plot these things.\n",
    "\n",
    "import matplotlib.pyplot as plt\n",
    "plt.hist(high_var_array)\n",
    "plt.show()"
   ]
  },
  {
   "cell_type": "code",
   "execution_count": 9,
   "id": "2251db4e",
   "metadata": {},
   "outputs": [
    {
     "data": {
      "image/png": "[encoded data removed]",
      "text/plain": [
       "<Figure size 432x288 with 1 Axes>"
      ]
     },
     "metadata": {
      "needs_background": "light"
     },
     "output_type": "display_data"
    }
   ],
   "source": [
    "plt.hist(low_var_array)\n",
    "plt.show()"
   ]
  },
  {
   "cell_type": "markdown",
   "id": "d0809a9e",
   "metadata": {},
   "source": [
    "# Dot product."
   ]
  },
  {
   "cell_type": "code",
   "execution_count": 2,
   "id": "e63ef5d9",
   "metadata": {},
   "outputs": [],
   "source": [
    "# we'll see about normal multiplication and the dot product of the matrices."
   ]
  },
  {
   "cell_type": "code",
   "execution_count": 3,
   "id": "42050508",
   "metadata": {},
   "outputs": [],
   "source": [
    "#let us create two matrices\n",
    "\n",
    "mat1=np.random.randint(10,size=(5,3))\n",
    "mat2=np.random.randint(10,size=(5,3))"
   ]
  },
  {
   "cell_type": "code",
   "execution_count": 4,
   "id": "3a61d4a9",
   "metadata": {},
   "outputs": [
    {
     "data": {
      "text/plain": [
       "array([[2, 9, 0],\n",
       "       [3, 5, 1],\n",
       "       [8, 5, 4],\n",
       "       [6, 7, 3],\n",
       "       [6, 4, 1]])"
      ]
     },
     "execution_count": 4,
     "metadata": {},
     "output_type": "execute_result"
    }
   ],
   "source": [
    "mat1"
   ]
  },
  {
   "cell_type": "code",
   "execution_count": 5,
   "id": "ff67a192",
   "metadata": {},
   "outputs": [
    {
     "data": {
      "text/plain": [
       "array([[2, 0, 7],\n",
       "       [6, 6, 9],\n",
       "       [6, 2, 5],\n",
       "       [2, 9, 8],\n",
       "       [9, 0, 6]])"
      ]
     },
     "execution_count": 5,
     "metadata": {},
     "output_type": "execute_result"
    }
   ],
   "source": [
    "mat2"
   ]
  },
  {
   "cell_type": "code",
   "execution_count": 6,
   "id": "28d63890",
   "metadata": {},
   "outputs": [
    {
     "name": "stdout",
     "output_type": "stream",
     "text": [
      "1.14 µs ± 152 ns per loop (mean ± std. dev. of 7 runs, 1,000,000 loops each)\n"
     ]
    }
   ],
   "source": [
    "#let us do the same multiplication\n",
    "\n",
    "%timeit mat1*mat2"
   ]
  },
  {
   "cell_type": "code",
   "execution_count": 7,
   "id": "16ea41c5",
   "metadata": {},
   "outputs": [
    {
     "data": {
      "text/plain": [
       "array([[ 4,  0,  0],\n",
       "       [18, 30,  9],\n",
       "       [48, 10, 20],\n",
       "       [12, 63, 24],\n",
       "       [54,  0,  6]])"
      ]
     },
     "execution_count": 7,
     "metadata": {},
     "output_type": "execute_result"
    }
   ],
   "source": [
    "mat1*mat2"
   ]
  },
  {
   "cell_type": "code",
   "execution_count": 9,
   "id": "1e74a9de",
   "metadata": {},
   "outputs": [
    {
     "ename": "ValueError",
     "evalue": "shapes (5,3) and (5,3) not aligned: 3 (dim 1) != 5 (dim 0)",
     "output_type": "error",
     "traceback": [
      "\u001b[1;31m---------------------------------------------------------------------------\u001b[0m",
      "\u001b[1;31mValueError\u001b[0m                                Traceback (most recent call last)",
      "Input \u001b[1;32mIn [9]\u001b[0m, in \u001b[0;36m<cell line: 3>\u001b[1;34m()\u001b[0m\n\u001b[0;32m      1\u001b[0m \u001b[38;5;66;03m# now lets move on to the dot product \u001b[39;00m\n\u001b[1;32m----> 3\u001b[0m mat3\u001b[38;5;241m=\u001b[39m\u001b[43mnp\u001b[49m\u001b[38;5;241;43m.\u001b[39;49m\u001b[43mdot\u001b[49m\u001b[43m(\u001b[49m\u001b[43mmat1\u001b[49m\u001b[43m,\u001b[49m\u001b[43mmat2\u001b[49m\u001b[43m)\u001b[49m\n",
      "File \u001b[1;32m<__array_function__ internals>:180\u001b[0m, in \u001b[0;36mdot\u001b[1;34m(*args, **kwargs)\u001b[0m\n",
      "\u001b[1;31mValueError\u001b[0m: shapes (5,3) and (5,3) not aligned: 3 (dim 1) != 5 (dim 0)"
     ]
    }
   ],
   "source": [
    "# now lets move on to the dot product \n",
    "\n",
    "mat3=np.dot(mat1,mat2)"
   ]
  },
  {
   "cell_type": "code",
   "execution_count": 10,
   "id": "c6bf8fa4",
   "metadata": {},
   "outputs": [],
   "source": [
    "# This is need to be highlighted like this not like the above thing we did this is actually\n",
    "\n",
    "#like multiplying the matrices "
   ]
  },
  {
   "cell_type": "code",
   "execution_count": null,
   "id": "ff73268e",
   "metadata": {},
   "outputs": [],
   "source": [
    "#google matrix multiplication."
   ]
  },
  {
   "cell_type": "code",
   "execution_count": 11,
   "id": "49f62c94",
   "metadata": {},
   "outputs": [
    {
     "data": {
      "text/plain": [
       "array([[2, 3, 8, 6, 6],\n",
       "       [9, 5, 5, 7, 4],\n",
       "       [0, 1, 4, 3, 1]])"
      ]
     },
     "execution_count": 11,
     "metadata": {},
     "output_type": "execute_result"
    }
   ],
   "source": [
    "# so taking transpose will give the required matrix.\n",
    "\n",
    "mat1.T"
   ]
  },
  {
   "cell_type": "code",
   "execution_count": 12,
   "id": "0b817126",
   "metadata": {},
   "outputs": [],
   "source": [
    "mat3=np.dot(mat1.T,mat2)"
   ]
  },
  {
   "cell_type": "code",
   "execution_count": 13,
   "id": "c46d6d09",
   "metadata": {},
   "outputs": [
    {
     "data": {
      "text/plain": [
       "array([[136,  88, 165],\n",
       "       [128, 103, 213],\n",
       "       [ 45,  41,  59]])"
      ]
     },
     "execution_count": 13,
     "metadata": {},
     "output_type": "execute_result"
    }
   ],
   "source": [
    "mat3"
   ]
  },
  {
   "cell_type": "code",
   "execution_count": 15,
   "id": "b2ed7f88",
   "metadata": {},
   "outputs": [],
   "source": [
    "# here lets try to reshape the matrix\n",
    "\n",
    "mat1=mat1.reshape((3,5))"
   ]
  },
  {
   "cell_type": "code",
   "execution_count": 16,
   "id": "9be5826a",
   "metadata": {},
   "outputs": [
    {
     "data": {
      "text/plain": [
       "array([[2, 9, 0, 3, 5],\n",
       "       [1, 8, 5, 4, 6],\n",
       "       [7, 3, 6, 4, 1]])"
      ]
     },
     "execution_count": 16,
     "metadata": {},
     "output_type": "execute_result"
    }
   ],
   "source": [
    "mat1"
   ]
  },
  {
   "cell_type": "markdown",
   "id": "664a09b1",
   "metadata": {},
   "source": [
    "mat4=np.dot(mat1,mat2"
   ]
  },
  {
   "cell_type": "code",
   "execution_count": 17,
   "id": "1109eab3",
   "metadata": {},
   "outputs": [],
   "source": [
    "mat4=np.dot(mat1,mat2)"
   ]
  },
  {
   "cell_type": "code",
   "execution_count": 18,
   "id": "b65eb05a",
   "metadata": {},
   "outputs": [
    {
     "data": {
      "text/plain": [
       "array([[109,  81, 149],\n",
       "       [142,  94, 172],\n",
       "       [ 85,  66, 144]])"
      ]
     },
     "execution_count": 18,
     "metadata": {},
     "output_type": "execute_result"
    }
   ],
   "source": [
    "mat4"
   ]
  },
  {
   "cell_type": "code",
   "execution_count": 19,
   "id": "37c8288b",
   "metadata": {},
   "outputs": [
    {
     "data": {
      "text/plain": [
       "array([[2, 9, 0, 3, 5],\n",
       "       [1, 8, 5, 4, 6],\n",
       "       [7, 3, 6, 4, 1]])"
      ]
     },
     "execution_count": 19,
     "metadata": {},
     "output_type": "execute_result"
    }
   ],
   "source": [
    "mat1"
   ]
  },
  {
   "cell_type": "code",
   "execution_count": 20,
   "id": "89930466",
   "metadata": {},
   "outputs": [],
   "source": [
    "# Reshape may not work as you think so maximum try to transpose the matrix."
   ]
  },
  {
   "cell_type": "markdown",
   "id": "d8e54753",
   "metadata": {},
   "source": [
    "# Dot product Example nut butter sales."
   ]
  },
  {
   "cell_type": "code",
   "execution_count": 4,
   "id": "6a137c8c",
   "metadata": {},
   "outputs": [
    {
     "data": {
      "text/plain": [
       "array([[14,  6, 15],\n",
       "       [ 3,  0, 18],\n",
       "       [ 8,  8,  4],\n",
       "       [ 0,  6,  8],\n",
       "       [15,  7, 16]])"
      ]
     },
     "execution_count": 4,
     "metadata": {},
     "output_type": "execute_result"
    }
   ],
   "source": [
    "np.random.seed()\n",
    "sales_amount=np.random.randint(20,size=(5,3))\n",
    "sales_amount"
   ]
  },
  {
   "cell_type": "code",
   "execution_count": 6,
   "id": "1130e841",
   "metadata": {},
   "outputs": [
    {
     "data": {
      "text/html": [
       "<div>\n",
       "<style scoped>\n",
       "    .dataframe tbody tr th:only-of-type {\n",
       "        vertical-align: middle;\n",
       "    }\n",
       "\n",
       "    .dataframe tbody tr th {\n",
       "        vertical-align: top;\n",
       "    }\n",
       "\n",
       "    .dataframe thead th {\n",
       "        text-align: right;\n",
       "    }\n",
       "</style>\n",
       "<table border=\"1\" class=\"dataframe\">\n",
       "  <thead>\n",
       "    <tr style=\"text-align: right;\">\n",
       "      <th></th>\n",
       "      <th>Almond butter</th>\n",
       "      <th>Cashew butter</th>\n",
       "      <th>peanut butter</th>\n",
       "    </tr>\n",
       "  </thead>\n",
       "  <tbody>\n",
       "    <tr>\n",
       "      <th>Monday</th>\n",
       "      <td>14</td>\n",
       "      <td>6</td>\n",
       "      <td>15</td>\n",
       "    </tr>\n",
       "    <tr>\n",
       "      <th>Tuesday</th>\n",
       "      <td>3</td>\n",
       "      <td>0</td>\n",
       "      <td>18</td>\n",
       "    </tr>\n",
       "    <tr>\n",
       "      <th>Wednesday</th>\n",
       "      <td>8</td>\n",
       "      <td>8</td>\n",
       "      <td>4</td>\n",
       "    </tr>\n",
       "    <tr>\n",
       "      <th>Thursday</th>\n",
       "      <td>0</td>\n",
       "      <td>6</td>\n",
       "      <td>8</td>\n",
       "    </tr>\n",
       "    <tr>\n",
       "      <th>Friday</th>\n",
       "      <td>15</td>\n",
       "      <td>7</td>\n",
       "      <td>16</td>\n",
       "    </tr>\n",
       "  </tbody>\n",
       "</table>\n",
       "</div>"
      ],
      "text/plain": [
       "           Almond butter  Cashew butter  peanut butter\n",
       "Monday                14              6             15\n",
       "Tuesday                3              0             18\n",
       "Wednesday              8              8              4\n",
       "Thursday               0              6              8\n",
       "Friday                15              7             16"
      ]
     },
     "execution_count": 6,
     "metadata": {},
     "output_type": "execute_result"
    }
   ],
   "source": [
    "# export the above array as padas dataframe\n",
    "\n",
    "week_sales=pd.DataFrame(sales_amount,index=['Monday','Tuesday','Wednesday','Thursday','Friday'],\n",
    "                       columns=['Almond butter','Cashew butter','peanut butter'])\n",
    "week_sales"
   ]
  },
  {
   "cell_type": "code",
   "execution_count": 7,
   "id": "eaa0b19d",
   "metadata": {},
   "outputs": [],
   "source": [
    "prices=np.array([10,8,12])"
   ]
  },
  {
   "cell_type": "code",
   "execution_count": null,
   "id": "276a5e2c",
   "metadata": {},
   "outputs": [],
   "source": []
  },
  {
   "cell_type": "code",
   "execution_count": 11,
   "id": "12c59cb8",
   "metadata": {},
   "outputs": [
    {
     "data": {
      "text/plain": [
       "(3,)"
      ]
     },
     "execution_count": 11,
     "metadata": {},
     "output_type": "execute_result"
    }
   ],
   "source": [
    "prices.shape"
   ]
  },
  {
   "cell_type": "code",
   "execution_count": 23,
   "id": "18418743",
   "metadata": {},
   "outputs": [
    {
     "ename": "ValueError",
     "evalue": "Shape of passed values is (3, 1), indices imply (1, 3)",
     "output_type": "error",
     "traceback": [
      "\u001b[1;31m---------------------------------------------------------------------------\u001b[0m",
      "\u001b[1;31mValueError\u001b[0m                                Traceback (most recent call last)",
      "Input \u001b[1;32mIn [23]\u001b[0m, in \u001b[0;36m<cell line: 1>\u001b[1;34m()\u001b[0m\n\u001b[1;32m----> 1\u001b[0m butter_price\u001b[38;5;241m=\u001b[39m\u001b[43mpd\u001b[49m\u001b[38;5;241;43m.\u001b[39;49m\u001b[43mDataFrame\u001b[49m\u001b[43m(\u001b[49m\u001b[43mprices\u001b[49m\u001b[38;5;241;43m.\u001b[39;49m\u001b[43mreshape\u001b[49m\u001b[43m(\u001b[49m\u001b[38;5;241;43m3\u001b[39;49m\u001b[43m,\u001b[49m\u001b[38;5;241;43m1\u001b[39;49m\u001b[43m)\u001b[49m\u001b[43m,\u001b[49m\u001b[43m \u001b[49m\u001b[43mindex\u001b[49m\u001b[38;5;241;43m=\u001b[39;49m\u001b[43m[\u001b[49m\u001b[38;5;124;43m'\u001b[39;49m\u001b[38;5;124;43mprices\u001b[39;49m\u001b[38;5;124;43m'\u001b[39;49m\u001b[43m]\u001b[49m\u001b[43m,\u001b[49m\n\u001b[0;32m      2\u001b[0m \u001b[43m                         \u001b[49m\u001b[43mcolumns\u001b[49m\u001b[38;5;241;43m=\u001b[39;49m\u001b[43m[\u001b[49m\u001b[38;5;124;43m'\u001b[39;49m\u001b[38;5;124;43mAlmond butter\u001b[39;49m\u001b[38;5;124;43m'\u001b[39;49m\u001b[43m,\u001b[49m\u001b[38;5;124;43m'\u001b[39;49m\u001b[38;5;124;43mCashew butter\u001b[39;49m\u001b[38;5;124;43m'\u001b[39;49m\u001b[43m,\u001b[49m\u001b[38;5;124;43m'\u001b[39;49m\u001b[38;5;124;43mpeanut butter\u001b[39;49m\u001b[38;5;124;43m'\u001b[39;49m\u001b[43m]\u001b[49m\u001b[43m)\u001b[49m\n",
      "File \u001b[1;32m~\\desktop\\sample_project_1\\env\\lib\\site-packages\\pandas\\core\\frame.py:694\u001b[0m, in \u001b[0;36mDataFrame.__init__\u001b[1;34m(self, data, index, columns, dtype, copy)\u001b[0m\n\u001b[0;32m    684\u001b[0m         mgr \u001b[38;5;241m=\u001b[39m dict_to_mgr(\n\u001b[0;32m    685\u001b[0m             \u001b[38;5;66;03m# error: Item \"ndarray\" of \"Union[ndarray, Series, Index]\" has no\u001b[39;00m\n\u001b[0;32m    686\u001b[0m             \u001b[38;5;66;03m# attribute \"name\"\u001b[39;00m\n\u001b[1;32m   (...)\u001b[0m\n\u001b[0;32m    691\u001b[0m             typ\u001b[38;5;241m=\u001b[39mmanager,\n\u001b[0;32m    692\u001b[0m         )\n\u001b[0;32m    693\u001b[0m     \u001b[38;5;28;01melse\u001b[39;00m:\n\u001b[1;32m--> 694\u001b[0m         mgr \u001b[38;5;241m=\u001b[39m \u001b[43mndarray_to_mgr\u001b[49m\u001b[43m(\u001b[49m\n\u001b[0;32m    695\u001b[0m \u001b[43m            \u001b[49m\u001b[43mdata\u001b[49m\u001b[43m,\u001b[49m\n\u001b[0;32m    696\u001b[0m \u001b[43m            \u001b[49m\u001b[43mindex\u001b[49m\u001b[43m,\u001b[49m\n\u001b[0;32m    697\u001b[0m \u001b[43m            \u001b[49m\u001b[43mcolumns\u001b[49m\u001b[43m,\u001b[49m\n\u001b[0;32m    698\u001b[0m \u001b[43m            \u001b[49m\u001b[43mdtype\u001b[49m\u001b[38;5;241;43m=\u001b[39;49m\u001b[43mdtype\u001b[49m\u001b[43m,\u001b[49m\n\u001b[0;32m    699\u001b[0m \u001b[43m            \u001b[49m\u001b[43mcopy\u001b[49m\u001b[38;5;241;43m=\u001b[39;49m\u001b[43mcopy\u001b[49m\u001b[43m,\u001b[49m\n\u001b[0;32m    700\u001b[0m \u001b[43m            \u001b[49m\u001b[43mtyp\u001b[49m\u001b[38;5;241;43m=\u001b[39;49m\u001b[43mmanager\u001b[49m\u001b[43m,\u001b[49m\n\u001b[0;32m    701\u001b[0m \u001b[43m        \u001b[49m\u001b[43m)\u001b[49m\n\u001b[0;32m    703\u001b[0m \u001b[38;5;66;03m# For data is list-like, or Iterable (will consume into list)\u001b[39;00m\n\u001b[0;32m    704\u001b[0m \u001b[38;5;28;01melif\u001b[39;00m is_list_like(data):\n",
      "File \u001b[1;32m~\\desktop\\sample_project_1\\env\\lib\\site-packages\\pandas\\core\\internals\\construction.py:351\u001b[0m, in \u001b[0;36mndarray_to_mgr\u001b[1;34m(values, index, columns, dtype, copy, typ)\u001b[0m\n\u001b[0;32m    346\u001b[0m \u001b[38;5;66;03m# _prep_ndarray ensures that values.ndim == 2 at this point\u001b[39;00m\n\u001b[0;32m    347\u001b[0m index, columns \u001b[38;5;241m=\u001b[39m _get_axes(\n\u001b[0;32m    348\u001b[0m     values\u001b[38;5;241m.\u001b[39mshape[\u001b[38;5;241m0\u001b[39m], values\u001b[38;5;241m.\u001b[39mshape[\u001b[38;5;241m1\u001b[39m], index\u001b[38;5;241m=\u001b[39mindex, columns\u001b[38;5;241m=\u001b[39mcolumns\n\u001b[0;32m    349\u001b[0m )\n\u001b[1;32m--> 351\u001b[0m \u001b[43m_check_values_indices_shape_match\u001b[49m\u001b[43m(\u001b[49m\u001b[43mvalues\u001b[49m\u001b[43m,\u001b[49m\u001b[43m \u001b[49m\u001b[43mindex\u001b[49m\u001b[43m,\u001b[49m\u001b[43m \u001b[49m\u001b[43mcolumns\u001b[49m\u001b[43m)\u001b[49m\n\u001b[0;32m    353\u001b[0m \u001b[38;5;28;01mif\u001b[39;00m typ \u001b[38;5;241m==\u001b[39m \u001b[38;5;124m\"\u001b[39m\u001b[38;5;124marray\u001b[39m\u001b[38;5;124m\"\u001b[39m:\n\u001b[0;32m    355\u001b[0m     \u001b[38;5;28;01mif\u001b[39;00m \u001b[38;5;28missubclass\u001b[39m(values\u001b[38;5;241m.\u001b[39mdtype\u001b[38;5;241m.\u001b[39mtype, \u001b[38;5;28mstr\u001b[39m):\n",
      "File \u001b[1;32m~\\desktop\\sample_project_1\\env\\lib\\site-packages\\pandas\\core\\internals\\construction.py:422\u001b[0m, in \u001b[0;36m_check_values_indices_shape_match\u001b[1;34m(values, index, columns)\u001b[0m\n\u001b[0;32m    420\u001b[0m passed \u001b[38;5;241m=\u001b[39m values\u001b[38;5;241m.\u001b[39mshape\n\u001b[0;32m    421\u001b[0m implied \u001b[38;5;241m=\u001b[39m (\u001b[38;5;28mlen\u001b[39m(index), \u001b[38;5;28mlen\u001b[39m(columns))\n\u001b[1;32m--> 422\u001b[0m \u001b[38;5;28;01mraise\u001b[39;00m \u001b[38;5;167;01mValueError\u001b[39;00m(\u001b[38;5;124mf\u001b[39m\u001b[38;5;124m\"\u001b[39m\u001b[38;5;124mShape of passed values is \u001b[39m\u001b[38;5;132;01m{\u001b[39;00mpassed\u001b[38;5;132;01m}\u001b[39;00m\u001b[38;5;124m, indices imply \u001b[39m\u001b[38;5;132;01m{\u001b[39;00mimplied\u001b[38;5;132;01m}\u001b[39;00m\u001b[38;5;124m\"\u001b[39m)\n",
      "\u001b[1;31mValueError\u001b[0m: Shape of passed values is (3, 1), indices imply (1, 3)"
     ]
    }
   ],
   "source": [
    "butter_price=pd.DataFrame(prices.reshape(3,1), index=['prices'],\n",
    "                         columns=['Almond butter','Cashew butter','peanut butter'])"
   ]
  },
  {
   "cell_type": "code",
   "execution_count": 32,
   "id": "5b94eab0",
   "metadata": {},
   "outputs": [
    {
     "data": {
      "text/plain": [
       "array([[10,  8, 12]])"
      ]
     },
     "execution_count": 32,
     "metadata": {},
     "output_type": "execute_result"
    }
   ],
   "source": [
    "#now we need to reshape the array values\n",
    "prices.reshape(1,3)"
   ]
  },
  {
   "cell_type": "code",
   "execution_count": 29,
   "id": "70e6dd89",
   "metadata": {},
   "outputs": [],
   "source": [
    "butter_price=pd.DataFrame(prices.reshape(1,3), index=['prices'],\n",
    "                         columns=['Almond butter','Cashew butter','peanut butter'])"
   ]
  },
  {
   "cell_type": "code",
   "execution_count": 31,
   "id": "22924a46",
   "metadata": {},
   "outputs": [
    {
     "data": {
      "text/html": [
       "<div>\n",
       "<style scoped>\n",
       "    .dataframe tbody tr th:only-of-type {\n",
       "        vertical-align: middle;\n",
       "    }\n",
       "\n",
       "    .dataframe tbody tr th {\n",
       "        vertical-align: top;\n",
       "    }\n",
       "\n",
       "    .dataframe thead th {\n",
       "        text-align: right;\n",
       "    }\n",
       "</style>\n",
       "<table border=\"1\" class=\"dataframe\">\n",
       "  <thead>\n",
       "    <tr style=\"text-align: right;\">\n",
       "      <th></th>\n",
       "      <th>Almond butter</th>\n",
       "      <th>Cashew butter</th>\n",
       "      <th>peanut butter</th>\n",
       "    </tr>\n",
       "  </thead>\n",
       "  <tbody>\n",
       "    <tr>\n",
       "      <th>prices</th>\n",
       "      <td>10</td>\n",
       "      <td>8</td>\n",
       "      <td>12</td>\n",
       "    </tr>\n",
       "  </tbody>\n",
       "</table>\n",
       "</div>"
      ],
      "text/plain": [
       "        Almond butter  Cashew butter  peanut butter\n",
       "prices             10              8             12"
      ]
     },
     "execution_count": 31,
     "metadata": {},
     "output_type": "execute_result"
    }
   ],
   "source": [
    "butter_price"
   ]
  },
  {
   "cell_type": "code",
   "execution_count": 33,
   "id": "ff629334",
   "metadata": {},
   "outputs": [],
   "source": [
    "daily_sale=butter_price.dot(week_sales.T)"
   ]
  },
  {
   "cell_type": "code",
   "execution_count": 34,
   "id": "e7a64925",
   "metadata": {},
   "outputs": [
    {
     "data": {
      "text/html": [
       "<div>\n",
       "<style scoped>\n",
       "    .dataframe tbody tr th:only-of-type {\n",
       "        vertical-align: middle;\n",
       "    }\n",
       "\n",
       "    .dataframe tbody tr th {\n",
       "        vertical-align: top;\n",
       "    }\n",
       "\n",
       "    .dataframe thead th {\n",
       "        text-align: right;\n",
       "    }\n",
       "</style>\n",
       "<table border=\"1\" class=\"dataframe\">\n",
       "  <thead>\n",
       "    <tr style=\"text-align: right;\">\n",
       "      <th></th>\n",
       "      <th>Monday</th>\n",
       "      <th>Tuesday</th>\n",
       "      <th>Wednesday</th>\n",
       "      <th>Thursday</th>\n",
       "      <th>Friday</th>\n",
       "    </tr>\n",
       "  </thead>\n",
       "  <tbody>\n",
       "    <tr>\n",
       "      <th>prices</th>\n",
       "      <td>368</td>\n",
       "      <td>246</td>\n",
       "      <td>192</td>\n",
       "      <td>144</td>\n",
       "      <td>398</td>\n",
       "    </tr>\n",
       "  </tbody>\n",
       "</table>\n",
       "</div>"
      ],
      "text/plain": [
       "        Monday  Tuesday  Wednesday  Thursday  Friday\n",
       "prices     368      246        192       144     398"
      ]
     },
     "execution_count": 34,
     "metadata": {},
     "output_type": "execute_result"
    }
   ],
   "source": [
    "daily_sale"
   ]
  },
  {
   "cell_type": "code",
   "execution_count": 35,
   "id": "7bbe0fc3",
   "metadata": {},
   "outputs": [
    {
     "data": {
      "text/plain": [
       "pandas.core.frame.DataFrame"
      ]
     },
     "execution_count": 35,
     "metadata": {},
     "output_type": "execute_result"
    }
   ],
   "source": [
    "type(daily_sale)"
   ]
  },
  {
   "cell_type": "code",
   "execution_count": 36,
   "id": "530a02e5",
   "metadata": {},
   "outputs": [],
   "source": [
    "week_sales['Total']=daily_sale.T"
   ]
  },
  {
   "cell_type": "code",
   "execution_count": 37,
   "id": "16141b19",
   "metadata": {},
   "outputs": [
    {
     "data": {
      "text/html": [
       "<div>\n",
       "<style scoped>\n",
       "    .dataframe tbody tr th:only-of-type {\n",
       "        vertical-align: middle;\n",
       "    }\n",
       "\n",
       "    .dataframe tbody tr th {\n",
       "        vertical-align: top;\n",
       "    }\n",
       "\n",
       "    .dataframe thead th {\n",
       "        text-align: right;\n",
       "    }\n",
       "</style>\n",
       "<table border=\"1\" class=\"dataframe\">\n",
       "  <thead>\n",
       "    <tr style=\"text-align: right;\">\n",
       "      <th></th>\n",
       "      <th>Almond butter</th>\n",
       "      <th>Cashew butter</th>\n",
       "      <th>peanut butter</th>\n",
       "      <th>Total</th>\n",
       "    </tr>\n",
       "  </thead>\n",
       "  <tbody>\n",
       "    <tr>\n",
       "      <th>Monday</th>\n",
       "      <td>14</td>\n",
       "      <td>6</td>\n",
       "      <td>15</td>\n",
       "      <td>368</td>\n",
       "    </tr>\n",
       "    <tr>\n",
       "      <th>Tuesday</th>\n",
       "      <td>3</td>\n",
       "      <td>0</td>\n",
       "      <td>18</td>\n",
       "      <td>246</td>\n",
       "    </tr>\n",
       "    <tr>\n",
       "      <th>Wednesday</th>\n",
       "      <td>8</td>\n",
       "      <td>8</td>\n",
       "      <td>4</td>\n",
       "      <td>192</td>\n",
       "    </tr>\n",
       "    <tr>\n",
       "      <th>Thursday</th>\n",
       "      <td>0</td>\n",
       "      <td>6</td>\n",
       "      <td>8</td>\n",
       "      <td>144</td>\n",
       "    </tr>\n",
       "    <tr>\n",
       "      <th>Friday</th>\n",
       "      <td>15</td>\n",
       "      <td>7</td>\n",
       "      <td>16</td>\n",
       "      <td>398</td>\n",
       "    </tr>\n",
       "  </tbody>\n",
       "</table>\n",
       "</div>"
      ],
      "text/plain": [
       "           Almond butter  Cashew butter  peanut butter  Total\n",
       "Monday                14              6             15    368\n",
       "Tuesday                3              0             18    246\n",
       "Wednesday              8              8              4    192\n",
       "Thursday               0              6              8    144\n",
       "Friday                15              7             16    398"
      ]
     },
     "execution_count": 37,
     "metadata": {},
     "output_type": "execute_result"
    }
   ],
   "source": [
    "week_sales"
   ]
  },
  {
   "cell_type": "code",
   "execution_count": null,
   "id": "aaee3fbc",
   "metadata": {},
   "outputs": [],
   "source": []
  }
 ],
 "metadata": {
  "kernelspec": {
   "display_name": "Python 3 (ipykernel)",
   "language": "python",
   "name": "python3"
  },
  "language_info": {
   "codemirror_mode": {
    "name": "ipython",
    "version": 3
   },
   "file_extension": ".py",
   "mimetype": "text/x-python",
   "name": "python",
   "nbconvert_exporter": "python",
   "pygments_lexer": "ipython3",
   "version": "3.10.4"
  }
 },
 "nbformat": 4,
 "nbformat_minor": 5
}
